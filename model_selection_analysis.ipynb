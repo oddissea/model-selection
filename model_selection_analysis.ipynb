{
 "cells": [
  {
   "cell_type": "markdown",
   "id": "12a1ab49-3dff-42ac-b146-03abf600a8f6",
   "metadata": {},
   "source": [
    "# PEC 1. Selección de modelos"
   ]
  },
  {
   "cell_type": "markdown",
   "id": "b0d46b3c-264d-4a07-b492-3a907cbfdf1c",
   "metadata": {},
   "source": [
    "## 1. Librerías necesarias<a name=\"ln\"></a>"
   ]
  },
  {
   "cell_type": "code",
   "execution_count": 1,
   "id": "bda20b87-c15c-41fc-904b-68aad025e061",
   "metadata": {},
   "outputs": [],
   "source": [
    "import numpy as np\n",
    "\n",
    "# Librería para la generación del dataset\n",
    "from sklearn.datasets import make_classification\n",
    "\n",
    "# Librerías para el uso de los modelos knn y logistic regression \n",
    "from sklearn.linear_model import LogisticRegression\n",
    "from sklearn.neighbors import KNeighborsClassifier\n",
    "from sklearn.model_selection import train_test_split\n",
    "from sklearn.metrics import accuracy_score, confusion_matrix\n",
    "\n",
    "# Librerías para el uso de pruebas estadísticas\n",
    "from statsmodels.stats.contingency_tables import mcnemar\n",
    "from scipy.stats import chi2, t\n",
    "from mlxtend.evaluate import paired_ttest_5x2cv, bias_variance_decomp\n",
    "\n",
    "# Librería para la representación de los resultados\n",
    "import pandas as pd"
   ]
  },
  {
   "cell_type": "markdown",
   "id": "fd97507d-f075-4190-8dd7-7682d8171de3",
   "metadata": {},
   "source": [
    "## 2. Generación de conjunto de datos sintético<a id=\"dataset\"></a>"
   ]
  },
  {
   "cell_type": "markdown",
   "id": "4dea04af-d9d3-4661-9f7a-86782edff449",
   "metadata": {},
   "source": [
    "Utilizamos la función `make_classification` de `sklearn.datasets` para generar un conjunto de datos sintético diseñado específicamente para un problema de clasificación binaria. A continuación, se describen las características principales del dataset:\n",
    "\n",
    "### **Parámetros Utilizados**\n",
    "- **Número de muestras (`n_samples`)**: 1000.\n",
    "  - El conjunto de datos contiene un total de 1000 observaciones.\n",
    "  \n",
    "- **Número de características (`n_features`)**: 10.\n",
    "  - Cada observación está representada por 10 características.\n",
    "\n",
    "- **Número de características informativas (`n_informative`)**: 8.\n",
    "  - Ocho de las características están directamente relacionadas con la clasificación de las clases.\n",
    "\n",
    "- **Número de características redundantes (`n_redundant`)**: 2.\n",
    "  - Dos características se derivan de combinaciones lineales de las características informativas, añadiendo correlación al dataset.\n",
    "\n",
    "- **Número de clases (`n_classes`)**: 2.\n",
    "  - Es un problema de clasificación binaria.\n",
    "\n",
    "- **Número de clústeres por clase (`n_clusters_per_class`)**: 3.\n",
    "  - Cada clase está compuesta por tres clústeres separados.\n",
    "\n",
    "- **Separación entre las clases (`class_sep`)**: 0.8.\n",
    "  - La separación entre los clústeres de cada clase no es muy alta.\n",
    "\n",
    "- **Proporción de las clases (`weights`)**: [0.6, 0.4].\n",
    "  - La clase 0 representa el 60% de las observaciones, mientras que la clase 1 representa el 40%. Esto introduce un leve desbalance en el dataset.\n",
    "\n",
    "- **Ruido introducido en las etiquetas (`flip_y`)**: 0.05.\n",
    "  - El 5% de las etiquetas se aleatorizan, introduciendo ruido para simular errores de clasificación o datos imperfectos.\n",
    "\n",
    "- **Semilla aleatoria (`random_state`)**: 1.\n",
    "  - Se establece una semilla para garantizar la reproducibilidad del dataset.\n",
    "\n",
    "### **Propósito del Dataset**\n",
    "Este dataset fue diseñado para simular un problema de clasificación binaria con características correlacionadas, clases no perfectamente separables con un leve desbalance de clases. Estas propiedades permiten:\n",
    "1. Evaluar el rendimiento de clasificadores supervisados como **regresión logística** y **k-nn**.\n",
    "2. Analizar el impacto de características informativas y redundantes en la clasificación.\n",
    "3. Probar la robustez de los modelos frente a ruido y desbalance de clases.\n",
    "\n",
    "### **Distribución del Dataset**\n",
    "- **Tamaño total**: 1000 observaciones.\n",
    "- **Distribución de clases**:\n",
    "  - Clase 0: 600 observaciones (60%).\n",
    "  - Clase 1: 400 observaciones (40%)."
   ]
  },
  {
   "cell_type": "code",
   "execution_count": 2,
   "id": "805453f1-6d1d-40da-aadc-b14b4940f704",
   "metadata": {},
   "outputs": [],
   "source": [
    "# Generación del dataset sintético\n",
    "X, y = make_classification(\n",
    "    n_samples=1000,\n",
    "    n_features=10,\n",
    "    n_informative=8,\n",
    "    n_redundant=2,\n",
    "    n_classes=2,\n",
    "    n_clusters_per_class=3,\n",
    "    class_sep=0.8,\n",
    "    weights=[0.6, 0.4],\n",
    "    flip_y=0.05,\n",
    "    random_state=1\n",
    ")\n",
    "\n",
    "# División en conjunto de entrenamiento y prueba (70/30)\n",
    "# stratify mantiene la proporción de clases en los splits\n",
    "X_train, X_test, y_train, y_test = train_test_split(\n",
    "    X, y, test_size=0.3, random_state=42, stratify=y\n",
    ")"
   ]
  },
  {
   "cell_type": "markdown",
   "id": "4fdb6098-633a-49d9-9a63-de1572e1d13f",
   "metadata": {},
   "source": [
    "## 3. Definición y entrenamiento de los clasificadores<a id=\"train\"></a>"
   ]
  },
  {
   "cell_type": "code",
   "execution_count": 3,
   "id": "27a05206-dbb3-4a6e-93d2-074d09761015",
   "metadata": {},
   "outputs": [
    {
     "data": {
      "text/html": [
       "<style>#sk-container-id-1 {\n",
       "  /* Definition of color scheme common for light and dark mode */\n",
       "  --sklearn-color-text: black;\n",
       "  --sklearn-color-line: gray;\n",
       "  /* Definition of color scheme for unfitted estimators */\n",
       "  --sklearn-color-unfitted-level-0: #fff5e6;\n",
       "  --sklearn-color-unfitted-level-1: #f6e4d2;\n",
       "  --sklearn-color-unfitted-level-2: #ffe0b3;\n",
       "  --sklearn-color-unfitted-level-3: chocolate;\n",
       "  /* Definition of color scheme for fitted estimators */\n",
       "  --sklearn-color-fitted-level-0: #f0f8ff;\n",
       "  --sklearn-color-fitted-level-1: #d4ebff;\n",
       "  --sklearn-color-fitted-level-2: #b3dbfd;\n",
       "  --sklearn-color-fitted-level-3: cornflowerblue;\n",
       "\n",
       "  /* Specific color for light theme */\n",
       "  --sklearn-color-text-on-default-background: var(--sg-text-color, var(--theme-code-foreground, var(--jp-content-font-color1, black)));\n",
       "  --sklearn-color-background: var(--sg-background-color, var(--theme-background, var(--jp-layout-color0, white)));\n",
       "  --sklearn-color-border-box: var(--sg-text-color, var(--theme-code-foreground, var(--jp-content-font-color1, black)));\n",
       "  --sklearn-color-icon: #696969;\n",
       "\n",
       "  @media (prefers-color-scheme: dark) {\n",
       "    /* Redefinition of color scheme for dark theme */\n",
       "    --sklearn-color-text-on-default-background: var(--sg-text-color, var(--theme-code-foreground, var(--jp-content-font-color1, white)));\n",
       "    --sklearn-color-background: var(--sg-background-color, var(--theme-background, var(--jp-layout-color0, #111)));\n",
       "    --sklearn-color-border-box: var(--sg-text-color, var(--theme-code-foreground, var(--jp-content-font-color1, white)));\n",
       "    --sklearn-color-icon: #878787;\n",
       "  }\n",
       "}\n",
       "\n",
       "#sk-container-id-1 {\n",
       "  color: var(--sklearn-color-text);\n",
       "}\n",
       "\n",
       "#sk-container-id-1 pre {\n",
       "  padding: 0;\n",
       "}\n",
       "\n",
       "#sk-container-id-1 input.sk-hidden--visually {\n",
       "  border: 0;\n",
       "  clip: rect(1px 1px 1px 1px);\n",
       "  clip: rect(1px, 1px, 1px, 1px);\n",
       "  height: 1px;\n",
       "  margin: -1px;\n",
       "  overflow: hidden;\n",
       "  padding: 0;\n",
       "  position: absolute;\n",
       "  width: 1px;\n",
       "}\n",
       "\n",
       "#sk-container-id-1 div.sk-dashed-wrapped {\n",
       "  border: 1px dashed var(--sklearn-color-line);\n",
       "  margin: 0 0.4em 0.5em 0.4em;\n",
       "  box-sizing: border-box;\n",
       "  padding-bottom: 0.4em;\n",
       "  background-color: var(--sklearn-color-background);\n",
       "}\n",
       "\n",
       "#sk-container-id-1 div.sk-container {\n",
       "  /* jupyter's `normalize.less` sets `[hidden] { display: none; }`\n",
       "     but bootstrap.min.css set `[hidden] { display: none !important; }`\n",
       "     so we also need the `!important` here to be able to override the\n",
       "     default hidden behavior on the sphinx rendered scikit-learn.org.\n",
       "     See: https://github.com/scikit-learn/scikit-learn/issues/21755 */\n",
       "  display: inline-block !important;\n",
       "  position: relative;\n",
       "}\n",
       "\n",
       "#sk-container-id-1 div.sk-text-repr-fallback {\n",
       "  display: none;\n",
       "}\n",
       "\n",
       "div.sk-parallel-item,\n",
       "div.sk-serial,\n",
       "div.sk-item {\n",
       "  /* draw centered vertical line to link estimators */\n",
       "  background-image: linear-gradient(var(--sklearn-color-text-on-default-background), var(--sklearn-color-text-on-default-background));\n",
       "  background-size: 2px 100%;\n",
       "  background-repeat: no-repeat;\n",
       "  background-position: center center;\n",
       "}\n",
       "\n",
       "/* Parallel-specific style estimator block */\n",
       "\n",
       "#sk-container-id-1 div.sk-parallel-item::after {\n",
       "  content: \"\";\n",
       "  width: 100%;\n",
       "  border-bottom: 2px solid var(--sklearn-color-text-on-default-background);\n",
       "  flex-grow: 1;\n",
       "}\n",
       "\n",
       "#sk-container-id-1 div.sk-parallel {\n",
       "  display: flex;\n",
       "  align-items: stretch;\n",
       "  justify-content: center;\n",
       "  background-color: var(--sklearn-color-background);\n",
       "  position: relative;\n",
       "}\n",
       "\n",
       "#sk-container-id-1 div.sk-parallel-item {\n",
       "  display: flex;\n",
       "  flex-direction: column;\n",
       "}\n",
       "\n",
       "#sk-container-id-1 div.sk-parallel-item:first-child::after {\n",
       "  align-self: flex-end;\n",
       "  width: 50%;\n",
       "}\n",
       "\n",
       "#sk-container-id-1 div.sk-parallel-item:last-child::after {\n",
       "  align-self: flex-start;\n",
       "  width: 50%;\n",
       "}\n",
       "\n",
       "#sk-container-id-1 div.sk-parallel-item:only-child::after {\n",
       "  width: 0;\n",
       "}\n",
       "\n",
       "/* Serial-specific style estimator block */\n",
       "\n",
       "#sk-container-id-1 div.sk-serial {\n",
       "  display: flex;\n",
       "  flex-direction: column;\n",
       "  align-items: center;\n",
       "  background-color: var(--sklearn-color-background);\n",
       "  padding-right: 1em;\n",
       "  padding-left: 1em;\n",
       "}\n",
       "\n",
       "\n",
       "/* Toggleable style: style used for estimator/Pipeline/ColumnTransformer box that is\n",
       "clickable and can be expanded/collapsed.\n",
       "- Pipeline and ColumnTransformer use this feature and define the default style\n",
       "- Estimators will overwrite some part of the style using the `sk-estimator` class\n",
       "*/\n",
       "\n",
       "/* Pipeline and ColumnTransformer style (default) */\n",
       "\n",
       "#sk-container-id-1 div.sk-toggleable {\n",
       "  /* Default theme specific background. It is overwritten whether we have a\n",
       "  specific estimator or a Pipeline/ColumnTransformer */\n",
       "  background-color: var(--sklearn-color-background);\n",
       "}\n",
       "\n",
       "/* Toggleable label */\n",
       "#sk-container-id-1 label.sk-toggleable__label {\n",
       "  cursor: pointer;\n",
       "  display: block;\n",
       "  width: 100%;\n",
       "  margin-bottom: 0;\n",
       "  padding: 0.5em;\n",
       "  box-sizing: border-box;\n",
       "  text-align: center;\n",
       "}\n",
       "\n",
       "#sk-container-id-1 label.sk-toggleable__label-arrow:before {\n",
       "  /* Arrow on the left of the label */\n",
       "  content: \"▸\";\n",
       "  float: left;\n",
       "  margin-right: 0.25em;\n",
       "  color: var(--sklearn-color-icon);\n",
       "}\n",
       "\n",
       "#sk-container-id-1 label.sk-toggleable__label-arrow:hover:before {\n",
       "  color: var(--sklearn-color-text);\n",
       "}\n",
       "\n",
       "/* Toggleable content - dropdown */\n",
       "\n",
       "#sk-container-id-1 div.sk-toggleable__content {\n",
       "  max-height: 0;\n",
       "  max-width: 0;\n",
       "  overflow: hidden;\n",
       "  text-align: left;\n",
       "  /* unfitted */\n",
       "  background-color: var(--sklearn-color-unfitted-level-0);\n",
       "}\n",
       "\n",
       "#sk-container-id-1 div.sk-toggleable__content.fitted {\n",
       "  /* fitted */\n",
       "  background-color: var(--sklearn-color-fitted-level-0);\n",
       "}\n",
       "\n",
       "#sk-container-id-1 div.sk-toggleable__content pre {\n",
       "  margin: 0.2em;\n",
       "  border-radius: 0.25em;\n",
       "  color: var(--sklearn-color-text);\n",
       "  /* unfitted */\n",
       "  background-color: var(--sklearn-color-unfitted-level-0);\n",
       "}\n",
       "\n",
       "#sk-container-id-1 div.sk-toggleable__content.fitted pre {\n",
       "  /* unfitted */\n",
       "  background-color: var(--sklearn-color-fitted-level-0);\n",
       "}\n",
       "\n",
       "#sk-container-id-1 input.sk-toggleable__control:checked~div.sk-toggleable__content {\n",
       "  /* Expand drop-down */\n",
       "  max-height: 200px;\n",
       "  max-width: 100%;\n",
       "  overflow: auto;\n",
       "}\n",
       "\n",
       "#sk-container-id-1 input.sk-toggleable__control:checked~label.sk-toggleable__label-arrow:before {\n",
       "  content: \"▾\";\n",
       "}\n",
       "\n",
       "/* Pipeline/ColumnTransformer-specific style */\n",
       "\n",
       "#sk-container-id-1 div.sk-label input.sk-toggleable__control:checked~label.sk-toggleable__label {\n",
       "  color: var(--sklearn-color-text);\n",
       "  background-color: var(--sklearn-color-unfitted-level-2);\n",
       "}\n",
       "\n",
       "#sk-container-id-1 div.sk-label.fitted input.sk-toggleable__control:checked~label.sk-toggleable__label {\n",
       "  background-color: var(--sklearn-color-fitted-level-2);\n",
       "}\n",
       "\n",
       "/* Estimator-specific style */\n",
       "\n",
       "/* Colorize estimator box */\n",
       "#sk-container-id-1 div.sk-estimator input.sk-toggleable__control:checked~label.sk-toggleable__label {\n",
       "  /* unfitted */\n",
       "  background-color: var(--sklearn-color-unfitted-level-2);\n",
       "}\n",
       "\n",
       "#sk-container-id-1 div.sk-estimator.fitted input.sk-toggleable__control:checked~label.sk-toggleable__label {\n",
       "  /* fitted */\n",
       "  background-color: var(--sklearn-color-fitted-level-2);\n",
       "}\n",
       "\n",
       "#sk-container-id-1 div.sk-label label.sk-toggleable__label,\n",
       "#sk-container-id-1 div.sk-label label {\n",
       "  /* The background is the default theme color */\n",
       "  color: var(--sklearn-color-text-on-default-background);\n",
       "}\n",
       "\n",
       "/* On hover, darken the color of the background */\n",
       "#sk-container-id-1 div.sk-label:hover label.sk-toggleable__label {\n",
       "  color: var(--sklearn-color-text);\n",
       "  background-color: var(--sklearn-color-unfitted-level-2);\n",
       "}\n",
       "\n",
       "/* Label box, darken color on hover, fitted */\n",
       "#sk-container-id-1 div.sk-label.fitted:hover label.sk-toggleable__label.fitted {\n",
       "  color: var(--sklearn-color-text);\n",
       "  background-color: var(--sklearn-color-fitted-level-2);\n",
       "}\n",
       "\n",
       "/* Estimator label */\n",
       "\n",
       "#sk-container-id-1 div.sk-label label {\n",
       "  font-family: monospace;\n",
       "  font-weight: bold;\n",
       "  display: inline-block;\n",
       "  line-height: 1.2em;\n",
       "}\n",
       "\n",
       "#sk-container-id-1 div.sk-label-container {\n",
       "  text-align: center;\n",
       "}\n",
       "\n",
       "/* Estimator-specific */\n",
       "#sk-container-id-1 div.sk-estimator {\n",
       "  font-family: monospace;\n",
       "  border: 1px dotted var(--sklearn-color-border-box);\n",
       "  border-radius: 0.25em;\n",
       "  box-sizing: border-box;\n",
       "  margin-bottom: 0.5em;\n",
       "  /* unfitted */\n",
       "  background-color: var(--sklearn-color-unfitted-level-0);\n",
       "}\n",
       "\n",
       "#sk-container-id-1 div.sk-estimator.fitted {\n",
       "  /* fitted */\n",
       "  background-color: var(--sklearn-color-fitted-level-0);\n",
       "}\n",
       "\n",
       "/* on hover */\n",
       "#sk-container-id-1 div.sk-estimator:hover {\n",
       "  /* unfitted */\n",
       "  background-color: var(--sklearn-color-unfitted-level-2);\n",
       "}\n",
       "\n",
       "#sk-container-id-1 div.sk-estimator.fitted:hover {\n",
       "  /* fitted */\n",
       "  background-color: var(--sklearn-color-fitted-level-2);\n",
       "}\n",
       "\n",
       "/* Specification for estimator info (e.g. \"i\" and \"?\") */\n",
       "\n",
       "/* Common style for \"i\" and \"?\" */\n",
       "\n",
       ".sk-estimator-doc-link,\n",
       "a:link.sk-estimator-doc-link,\n",
       "a:visited.sk-estimator-doc-link {\n",
       "  float: right;\n",
       "  font-size: smaller;\n",
       "  line-height: 1em;\n",
       "  font-family: monospace;\n",
       "  background-color: var(--sklearn-color-background);\n",
       "  border-radius: 1em;\n",
       "  height: 1em;\n",
       "  width: 1em;\n",
       "  text-decoration: none !important;\n",
       "  margin-left: 1ex;\n",
       "  /* unfitted */\n",
       "  border: var(--sklearn-color-unfitted-level-1) 1pt solid;\n",
       "  color: var(--sklearn-color-unfitted-level-1);\n",
       "}\n",
       "\n",
       ".sk-estimator-doc-link.fitted,\n",
       "a:link.sk-estimator-doc-link.fitted,\n",
       "a:visited.sk-estimator-doc-link.fitted {\n",
       "  /* fitted */\n",
       "  border: var(--sklearn-color-fitted-level-1) 1pt solid;\n",
       "  color: var(--sklearn-color-fitted-level-1);\n",
       "}\n",
       "\n",
       "/* On hover */\n",
       "div.sk-estimator:hover .sk-estimator-doc-link:hover,\n",
       ".sk-estimator-doc-link:hover,\n",
       "div.sk-label-container:hover .sk-estimator-doc-link:hover,\n",
       ".sk-estimator-doc-link:hover {\n",
       "  /* unfitted */\n",
       "  background-color: var(--sklearn-color-unfitted-level-3);\n",
       "  color: var(--sklearn-color-background);\n",
       "  text-decoration: none;\n",
       "}\n",
       "\n",
       "div.sk-estimator.fitted:hover .sk-estimator-doc-link.fitted:hover,\n",
       ".sk-estimator-doc-link.fitted:hover,\n",
       "div.sk-label-container:hover .sk-estimator-doc-link.fitted:hover,\n",
       ".sk-estimator-doc-link.fitted:hover {\n",
       "  /* fitted */\n",
       "  background-color: var(--sklearn-color-fitted-level-3);\n",
       "  color: var(--sklearn-color-background);\n",
       "  text-decoration: none;\n",
       "}\n",
       "\n",
       "/* Span, style for the box shown on hovering the info icon */\n",
       ".sk-estimator-doc-link span {\n",
       "  display: none;\n",
       "  z-index: 9999;\n",
       "  position: relative;\n",
       "  font-weight: normal;\n",
       "  right: .2ex;\n",
       "  padding: .5ex;\n",
       "  margin: .5ex;\n",
       "  width: min-content;\n",
       "  min-width: 20ex;\n",
       "  max-width: 50ex;\n",
       "  color: var(--sklearn-color-text);\n",
       "  box-shadow: 2pt 2pt 4pt #999;\n",
       "  /* unfitted */\n",
       "  background: var(--sklearn-color-unfitted-level-0);\n",
       "  border: .5pt solid var(--sklearn-color-unfitted-level-3);\n",
       "}\n",
       "\n",
       ".sk-estimator-doc-link.fitted span {\n",
       "  /* fitted */\n",
       "  background: var(--sklearn-color-fitted-level-0);\n",
       "  border: var(--sklearn-color-fitted-level-3);\n",
       "}\n",
       "\n",
       ".sk-estimator-doc-link:hover span {\n",
       "  display: block;\n",
       "}\n",
       "\n",
       "/* \"?\"-specific style due to the `<a>` HTML tag */\n",
       "\n",
       "#sk-container-id-1 a.estimator_doc_link {\n",
       "  float: right;\n",
       "  font-size: 1rem;\n",
       "  line-height: 1em;\n",
       "  font-family: monospace;\n",
       "  background-color: var(--sklearn-color-background);\n",
       "  border-radius: 1rem;\n",
       "  height: 1rem;\n",
       "  width: 1rem;\n",
       "  text-decoration: none;\n",
       "  /* unfitted */\n",
       "  color: var(--sklearn-color-unfitted-level-1);\n",
       "  border: var(--sklearn-color-unfitted-level-1) 1pt solid;\n",
       "}\n",
       "\n",
       "#sk-container-id-1 a.estimator_doc_link.fitted {\n",
       "  /* fitted */\n",
       "  border: var(--sklearn-color-fitted-level-1) 1pt solid;\n",
       "  color: var(--sklearn-color-fitted-level-1);\n",
       "}\n",
       "\n",
       "/* On hover */\n",
       "#sk-container-id-1 a.estimator_doc_link:hover {\n",
       "  /* unfitted */\n",
       "  background-color: var(--sklearn-color-unfitted-level-3);\n",
       "  color: var(--sklearn-color-background);\n",
       "  text-decoration: none;\n",
       "}\n",
       "\n",
       "#sk-container-id-1 a.estimator_doc_link.fitted:hover {\n",
       "  /* fitted */\n",
       "  background-color: var(--sklearn-color-fitted-level-3);\n",
       "}\n",
       "</style><div id=\"sk-container-id-1\" class=\"sk-top-container\"><div class=\"sk-text-repr-fallback\"><pre>KNeighborsClassifier()</pre><b>In a Jupyter environment, please rerun this cell to show the HTML representation or trust the notebook. <br />On GitHub, the HTML representation is unable to render, please try loading this page with nbviewer.org.</b></div><div class=\"sk-container\" hidden><div class=\"sk-item\"><div class=\"sk-estimator fitted sk-toggleable\"><input class=\"sk-toggleable__control sk-hidden--visually\" id=\"sk-estimator-id-1\" type=\"checkbox\" checked><label for=\"sk-estimator-id-1\" class=\"sk-toggleable__label fitted sk-toggleable__label-arrow fitted\">&nbsp;&nbsp;KNeighborsClassifier<a class=\"sk-estimator-doc-link fitted\" rel=\"noreferrer\" target=\"_blank\" href=\"https://scikit-learn.org/1.5/modules/generated/sklearn.neighbors.KNeighborsClassifier.html\">?<span>Documentation for KNeighborsClassifier</span></a><span class=\"sk-estimator-doc-link fitted\">i<span>Fitted</span></span></label><div class=\"sk-toggleable__content fitted\"><pre>KNeighborsClassifier()</pre></div> </div></div></div></div>"
      ],
      "text/plain": [
       "KNeighborsClassifier()"
      ]
     },
     "execution_count": 3,
     "metadata": {},
     "output_type": "execute_result"
    }
   ],
   "source": [
    "# Definición de los clasificadores\n",
    "clf_lr = LogisticRegression(random_state=42, max_iter=1000)\n",
    "clf_knn = KNeighborsClassifier(n_neighbors=5)\n",
    "\n",
    "# Entrenamiento de los clasificadores\n",
    "clf_lr.fit(X_train, y_train)\n",
    "clf_knn.fit(X_train, y_train)"
   ]
  },
  {
   "cell_type": "markdown",
   "id": "014ead3c-13a7-4fab-9e38-2262f064e2a2",
   "metadata": {},
   "source": [
    "## 4. Predicciones y cálculo de la precisión<a name=\"pred\"></a>"
   ]
  },
  {
   "cell_type": "code",
   "execution_count": 4,
   "id": "9bdb2893-f990-4655-84b9-af769efc3043",
   "metadata": {},
   "outputs": [],
   "source": [
    "# Predicciones en el conjunto de prueba\n",
    "y_pred_lr = clf_lr.predict(X_test)\n",
    "y_pred_knn = clf_knn.predict(X_test)\n",
    "\n",
    "# Cálculo de las precisiones\n",
    "accuracy_lr = accuracy_score(y_test, y_pred_lr)\n",
    "accuracy_knn = accuracy_score(y_test, y_pred_knn)"
   ]
  },
  {
   "cell_type": "markdown",
   "id": "7518a5ad-c49e-4655-8a42-d7a61e680f21",
   "metadata": {},
   "source": [
    "## 5. Construcción de la tabla de contingencia para el test de McNemar<a name=\"tablamac\"></a>"
   ]
  },
  {
   "cell_type": "code",
   "execution_count": 5,
   "id": "070fe483-c719-46d6-90c5-432d4191e32c",
   "metadata": {},
   "outputs": [
    {
     "name": "stdout",
     "output_type": "stream",
     "text": [
      "Total de discordancias (n01 + n10): 75\n",
      "El número de discordancias es adecuado para aplicar el test de McNemar.\n"
     ]
    }
   ],
   "source": [
    "# Construcción de la tabla de contingencia para el Test de McNemar\n",
    "# True: predicción correcta, False: predicción incorrecta\n",
    "correct_lr = y_pred_lr == y_test\n",
    "correct_knn = y_pred_knn == y_test\n",
    "\n",
    "# Cálculo de los valores n00, n01, n10, n11\n",
    "n00 = np.sum(np.logical_and(correct_lr, correct_knn))\n",
    "n01 = np.sum(np.logical_and(correct_lr, np.logical_not(correct_knn)))\n",
    "n10 = np.sum(np.logical_and(np.logical_not(correct_lr), correct_knn))\n",
    "n11 = np.sum(np.logical_and(np.logical_not(correct_lr), np.logical_not(correct_knn)))\n",
    "\n",
    "# Construcción de la matriz de confusión para el Test de McNemar\n",
    "table = np.array([[n00, n01],\n",
    "                  [n10, n11]])\n",
    "\n",
    "discordancias = n01 + n10\n",
    "print(f\"Total de discordancias (n01 + n10): {discordancias}\")\n",
    "\n",
    "if discordancias < 10:\n",
    "    print(\"Advertencia: El número de discordancias es bajo. El test de McNemar puede no ser fiable.\")\n",
    "else:\n",
    "    print(\"El número de discordancias es adecuado para aplicar el test de McNemar.\")"
   ]
  },
  {
   "cell_type": "markdown",
   "id": "7d7a5949-9e34-41be-962f-4fccb1aa3817",
   "metadata": {},
   "source": [
    "## 6. Aplicación del test de McNemar<a name=\"testmac\"></a>"
   ]
  },
  {
   "cell_type": "code",
   "execution_count": 22,
   "id": "d5f9dc20-6768-4b3c-83e8-84d91dc94ea8",
   "metadata": {},
   "outputs": [
    {
     "name": "stdout",
     "output_type": "stream",
     "text": [
      "3.841458820694124\n"
     ]
    }
   ],
   "source": [
    "# Aplicación del Test de McNemar\n",
    "result_mcnemar = mcnemar(table, exact=False, correction=True)\n",
    "chi2_v = result_mcnemar.statistic\n",
    "p_value_mcnemar = result_mcnemar.pvalue\n",
    "\n",
    "# Parámetros\n",
    "alpha = 0.05  # Nivel de significancia\n",
    "df = 1        # Grados de libertad\n",
    "\n",
    "critical_value = chi2.ppf(1 - alpha, df)\n",
    "\n",
    "print(critical_value)"
   ]
  },
  {
   "cell_type": "markdown",
   "id": "7078a239-8571-42d6-98cc-c9e6dd867e50",
   "metadata": {},
   "source": [
    "## 7. Aplicación del test t pareado 5x2 CV<a name=\"test5x2\"></a>"
   ]
  },
  {
   "cell_type": "code",
   "execution_count": 23,
   "id": "a73bde06-0b7f-4a07-8b4d-cf61fd34a079",
   "metadata": {},
   "outputs": [],
   "source": [
    "# Aplicación del Test t pareado 5x2 CV\n",
    "t_statistic, p_value_ttest = paired_ttest_5x2cv(\n",
    "    estimator1=LogisticRegression(random_state=42, max_iter=1000),\n",
    "    estimator2=KNeighborsClassifier(n_neighbors=5),\n",
    "    X=X, y=y, random_seed=42\n",
    ")\n",
    "\n",
    "# Parámetros\n",
    "alpha = 0.05  # Nivel de significancia\n",
    "df = 5        # Grados de libertad\n",
    "\n",
    "# Valor crítico (cola derecha)\n",
    "critical_value_right = t.ppf(1 - alpha, df)\n",
    "\n",
    "# Valor crítico para cola izquierda (si es necesario)\n",
    "critical_value_left = t.ppf(alpha, df)\n"
   ]
  },
  {
   "cell_type": "markdown",
   "id": "a0dbe3ff-3bf0-4ba4-a283-9d5e1afe7595",
   "metadata": {},
   "source": [
    "## 8. Análisis sesgo - varianza<a name=\"asv\"></a>"
   ]
  },
  {
   "cell_type": "code",
   "execution_count": 24,
   "id": "f4444fe1-efa7-401a-92d6-a6580c6873ca",
   "metadata": {},
   "outputs": [],
   "source": [
    "# Análisis de Sesgo y Varianza para Regresión Logística\n",
    "avg_expected_error_lr, avg_bias_lr, avg_variance_lr = bias_variance_decomp(\n",
    "    clf_lr, X_train, y_train, X_test, y_test, \n",
    "    loss='0-1_loss', random_seed=42, num_rounds=200\n",
    ")\n",
    "\n",
    "# Análisis de Sesgo y Varianza para k-NN\n",
    "avg_expected_error_knn, avg_bias_knn, avg_variance_knn = bias_variance_decomp(\n",
    "    clf_knn, X_train, y_train, X_test, y_test, \n",
    "    loss='0-1_loss', random_seed=42, num_rounds=200\n",
    ")"
   ]
  },
  {
   "cell_type": "markdown",
   "id": "086f9470-84c2-4a26-9a75-56fae75a1d2c",
   "metadata": {},
   "source": [
    "## 9. Representación analítica de los resultados<a name=\"ra\"></a>"
   ]
  },
  {
   "cell_type": "markdown",
   "id": "09a13c0b-24e9-4df6-a6dd-625dbdc13509",
   "metadata": {},
   "source": [
    "### 9.1. Tabla con las precisiones obtenidas por los clasificadores<a name=\"tpre\"></a>"
   ]
  },
  {
   "cell_type": "code",
   "execution_count": 25,
   "id": "803db88a-16aa-441a-98b2-d98246142a96",
   "metadata": {},
   "outputs": [
    {
     "data": {
      "text/html": [
       "<div>\n",
       "<style scoped>\n",
       "    .dataframe tbody tr th:only-of-type {\n",
       "        vertical-align: middle;\n",
       "    }\n",
       "\n",
       "    .dataframe tbody tr th {\n",
       "        vertical-align: top;\n",
       "    }\n",
       "\n",
       "    .dataframe thead th {\n",
       "        text-align: right;\n",
       "    }\n",
       "</style>\n",
       "<table border=\"1\" class=\"dataframe\">\n",
       "  <thead>\n",
       "    <tr style=\"text-align: right;\">\n",
       "      <th></th>\n",
       "      <th>Clasificador</th>\n",
       "      <th>Precisión</th>\n",
       "    </tr>\n",
       "  </thead>\n",
       "  <tbody>\n",
       "    <tr>\n",
       "      <th>0</th>\n",
       "      <td>Regresión Logística</td>\n",
       "      <td>0.697</td>\n",
       "    </tr>\n",
       "    <tr>\n",
       "      <th>1</th>\n",
       "      <td>k-NN (k=5)</td>\n",
       "      <td>0.787</td>\n",
       "    </tr>\n",
       "  </tbody>\n",
       "</table>\n",
       "</div>"
      ],
      "text/plain": [
       "          Clasificador  Precisión\n",
       "0  Regresión Logística      0.697\n",
       "1           k-NN (k=5)      0.787"
      ]
     },
     "metadata": {},
     "output_type": "display_data"
    }
   ],
   "source": [
    "# Resultados de los clasificadores\n",
    "accuracy_data = {\n",
    "    'Clasificador': ['Regresión Logística', 'k-NN (k=5)'],\n",
    "    'Precisión': [accuracy_lr, accuracy_knn]\n",
    "}\n",
    "accuracy_df = pd.DataFrame(accuracy_data).round({'Precisión': 3})\n",
    "\n",
    "# Muestra la tabla de precisiones\n",
    "display(accuracy_df)"
   ]
  },
  {
   "cell_type": "markdown",
   "id": "b8f6afd7-fe9c-4f9b-b7e0-379f32381032",
   "metadata": {},
   "source": [
    "### 9.2. Tabla de contingencia para el test de McNemar<a name=\"tcmac\"></a>"
   ]
  },
  {
   "cell_type": "code",
   "execution_count": 26,
   "id": "5f4c0b6e-a7d7-41a5-8ba7-9ab255e962d9",
   "metadata": {},
   "outputs": [
    {
     "data": {
      "text/html": [
       "<div>\n",
       "<style scoped>\n",
       "    .dataframe tbody tr th:only-of-type {\n",
       "        vertical-align: middle;\n",
       "    }\n",
       "\n",
       "    .dataframe tbody tr th {\n",
       "        vertical-align: top;\n",
       "    }\n",
       "\n",
       "    .dataframe thead th {\n",
       "        text-align: right;\n",
       "    }\n",
       "</style>\n",
       "<table border=\"1\" class=\"dataframe\">\n",
       "  <thead>\n",
       "    <tr style=\"text-align: right;\">\n",
       "      <th></th>\n",
       "      <th>k-NN Correcta</th>\n",
       "      <th>k-NN Incorrecta</th>\n",
       "    </tr>\n",
       "  </thead>\n",
       "  <tbody>\n",
       "    <tr>\n",
       "      <th>Regresión Logística Correcta</th>\n",
       "      <td>185</td>\n",
       "      <td>24</td>\n",
       "    </tr>\n",
       "    <tr>\n",
       "      <th>Regresión Logística Incorrecta</th>\n",
       "      <td>51</td>\n",
       "      <td>40</td>\n",
       "    </tr>\n",
       "  </tbody>\n",
       "</table>\n",
       "</div>"
      ],
      "text/plain": [
       "                                k-NN Correcta  k-NN Incorrecta\n",
       "Regresión Logística Correcta              185               24\n",
       "Regresión Logística Incorrecta             51               40"
      ]
     },
     "metadata": {},
     "output_type": "display_data"
    }
   ],
   "source": [
    "# Tabla de contingencia para el Test de McNemar\n",
    "contingency_table = pd.DataFrame(\n",
    "    table,\n",
    "    index=['Regresión Logística Correcta', 'Regresión Logística Incorrecta'],\n",
    "    columns=['k-NN Correcta', 'k-NN Incorrecta']\n",
    ")\n",
    "\n",
    "display(contingency_table)"
   ]
  },
  {
   "cell_type": "markdown",
   "id": "ceaf65b2-5cc8-4ff3-afb7-442cc7e2c3bb",
   "metadata": {},
   "source": [
    "### 9.3. Tabla de resultados del test de McNemar<a name=\"trmac\"></a>"
   ]
  },
  {
   "cell_type": "code",
   "execution_count": 27,
   "id": "a177a85b-5eab-4563-bcfa-e0c2eaea1796",
   "metadata": {},
   "outputs": [
    {
     "data": {
      "text/html": [
       "<div>\n",
       "<style scoped>\n",
       "    .dataframe tbody tr th:only-of-type {\n",
       "        vertical-align: middle;\n",
       "    }\n",
       "\n",
       "    .dataframe tbody tr th {\n",
       "        vertical-align: top;\n",
       "    }\n",
       "\n",
       "    .dataframe thead th {\n",
       "        text-align: right;\n",
       "    }\n",
       "</style>\n",
       "<table border=\"1\" class=\"dataframe\">\n",
       "  <thead>\n",
       "    <tr style=\"text-align: right;\">\n",
       "      <th></th>\n",
       "      <th>Estadístico $\\chi^2$</th>\n",
       "      <th>p-value</th>\n",
       "      <th>critical value</th>\n",
       "    </tr>\n",
       "  </thead>\n",
       "  <tbody>\n",
       "    <tr>\n",
       "      <th>Test de McNemar</th>\n",
       "      <td>9.013</td>\n",
       "      <td>0.003</td>\n",
       "      <td>3.841</td>\n",
       "    </tr>\n",
       "  </tbody>\n",
       "</table>\n",
       "</div>"
      ],
      "text/plain": [
       "                 Estadístico $\\chi^2$  p-value  critical value\n",
       "Test de McNemar                 9.013    0.003           3.841"
      ]
     },
     "metadata": {},
     "output_type": "display_data"
    }
   ],
   "source": [
    "# Resultados del Test de McNemar\n",
    "mcnemar_results = {\n",
    "    'Estadístico $\\chi^2$': [chi2_v],\n",
    "    'p-value': [p_value_mcnemar],\n",
    "    'critical value': [critical_value]\n",
    "}\n",
    "\n",
    "mcnemar_df = pd.DataFrame(mcnemar_results, index=['Test de McNemar']).round(3)\n",
    "\n",
    "# Muestra los resultados del Test de McNemar\n",
    "display(mcnemar_df)"
   ]
  },
  {
   "cell_type": "markdown",
   "id": "36a3a2d5-ce95-4b3f-815f-dff33ece6da4",
   "metadata": {},
   "source": [
    "### 9.4. Tabla de resultados del test t pareado 5x2 CV<a name=\"tr5x2\"></a>"
   ]
  },
  {
   "cell_type": "code",
   "execution_count": 28,
   "id": "dde1e0c9-d333-4a2d-9336-2c169d3cb4b2",
   "metadata": {},
   "outputs": [
    {
     "data": {
      "text/html": [
       "<div>\n",
       "<style scoped>\n",
       "    .dataframe tbody tr th:only-of-type {\n",
       "        vertical-align: middle;\n",
       "    }\n",
       "\n",
       "    .dataframe tbody tr th {\n",
       "        vertical-align: top;\n",
       "    }\n",
       "\n",
       "    .dataframe thead th {\n",
       "        text-align: right;\n",
       "    }\n",
       "</style>\n",
       "<table border=\"1\" class=\"dataframe\">\n",
       "  <thead>\n",
       "    <tr style=\"text-align: right;\">\n",
       "      <th></th>\n",
       "      <th>|t|</th>\n",
       "      <th>p-value</th>\n",
       "      <th>valor crítico derecho</th>\n",
       "    </tr>\n",
       "  </thead>\n",
       "  <tbody>\n",
       "    <tr>\n",
       "      <th>Test t pareado 5x2 CV</th>\n",
       "      <td>3.425</td>\n",
       "      <td>0.019</td>\n",
       "      <td>2.015</td>\n",
       "    </tr>\n",
       "  </tbody>\n",
       "</table>\n",
       "</div>"
      ],
      "text/plain": [
       "                         |t|  p-value  valor crítico derecho\n",
       "Test t pareado 5x2 CV  3.425    0.019                  2.015"
      ]
     },
     "metadata": {},
     "output_type": "display_data"
    }
   ],
   "source": [
    "# Resultados del Test t pareado 5x2 CV\n",
    "ttest_results = {\n",
    "    '|t|': [abs(t_statistic)],\n",
    "    'p-value': [p_value_ttest],\n",
    "    'valor crítico derecho': [critical_value_right]\n",
    "}\n",
    "ttest_df = pd.DataFrame(ttest_results, index=['Test t pareado 5x2 CV']).round(3)\n",
    "\n",
    "# Muestra los resultados del Test t pareado 5x2 CV\n",
    "display(ttest_df)"
   ]
  },
  {
   "cell_type": "markdown",
   "id": "769d460b-6c61-421a-817f-2d7ea4539fb1",
   "metadata": {},
   "source": [
    "### 9.5. Resultados del análisis de la descomposición sesgo - varianza<a name=\"trsv\"></a>"
   ]
  },
  {
   "cell_type": "code",
   "execution_count": 13,
   "id": "31687403-2800-48b4-8fb1-efd784fb8c1e",
   "metadata": {},
   "outputs": [
    {
     "name": "stdout",
     "output_type": "stream",
     "text": [
      "Análisis de Sesgo y Varianza:\n"
     ]
    },
    {
     "data": {
      "text/html": [
       "<div>\n",
       "<style scoped>\n",
       "    .dataframe tbody tr th:only-of-type {\n",
       "        vertical-align: middle;\n",
       "    }\n",
       "\n",
       "    .dataframe tbody tr th {\n",
       "        vertical-align: top;\n",
       "    }\n",
       "\n",
       "    .dataframe thead th {\n",
       "        text-align: right;\n",
       "    }\n",
       "</style>\n",
       "<table border=\"1\" class=\"dataframe\">\n",
       "  <thead>\n",
       "    <tr style=\"text-align: right;\">\n",
       "      <th></th>\n",
       "      <th>Clasificador</th>\n",
       "      <th>Sesgo (Bias)</th>\n",
       "      <th>Varianza</th>\n",
       "      <th>Error Esperado</th>\n",
       "    </tr>\n",
       "  </thead>\n",
       "  <tbody>\n",
       "    <tr>\n",
       "      <th>0</th>\n",
       "      <td>Regresión Logística</td>\n",
       "      <td>0.31</td>\n",
       "      <td>0.04</td>\n",
       "      <td>0.31</td>\n",
       "    </tr>\n",
       "    <tr>\n",
       "      <th>1</th>\n",
       "      <td>k-NN (k=5)</td>\n",
       "      <td>0.22</td>\n",
       "      <td>0.13</td>\n",
       "      <td>0.24</td>\n",
       "    </tr>\n",
       "  </tbody>\n",
       "</table>\n",
       "</div>"
      ],
      "text/plain": [
       "          Clasificador  Sesgo (Bias)  Varianza  Error Esperado\n",
       "0  Regresión Logística          0.31      0.04            0.31\n",
       "1           k-NN (k=5)          0.22      0.13            0.24"
      ]
     },
     "metadata": {},
     "output_type": "display_data"
    }
   ],
   "source": [
    "# Resultados del Análisis de Sesgo y Varianza\n",
    "bias_variance_data = {\n",
    "    'Clasificador': ['Regresión Logística', 'k-NN (k=5)'],\n",
    "    'Sesgo (Bias)': [avg_bias_lr, avg_bias_knn],\n",
    "    'Varianza': [avg_variance_lr, avg_variance_knn],\n",
    "    'Error Esperado': [avg_expected_error_lr, avg_expected_error_knn]\n",
    "}\n",
    "\n",
    "bias_variance_df = pd.DataFrame(bias_variance_data).round(2)\n",
    "\n",
    "print(\"Análisis de Sesgo y Varianza:\")\n",
    "display(bias_variance_df)"
   ]
  },
  {
   "cell_type": "markdown",
   "id": "240c93a9-d842-4d43-8bef-d2732f3cc4d2",
   "metadata": {},
   "source": [
    "## 10. Representación gráfica de los resultados<a name=\"rg\"></a>"
   ]
  },
  {
   "cell_type": "markdown",
   "id": "d20ae9ff-bf9b-4156-b5f5-a233c1289999",
   "metadata": {},
   "source": [
    "### 10.1. Tabla de contingencia para el test de McNemar<a name=\"tcgmac\"></a>"
   ]
  },
  {
   "cell_type": "code",
   "execution_count": 14,
   "id": "db24f361-d2db-462f-8e3f-cc61fd1482cd",
   "metadata": {},
   "outputs": [
    {
     "data": {
      "image/png": "[encoded data removed]",
      "text/plain": [
       "<Figure size 600x400 with 2 Axes>"
      ]
     },
     "metadata": {},
     "output_type": "display_data"
    }
   ],
   "source": [
    "import seaborn as sns\n",
    "import matplotlib.pyplot as plt\n",
    "\n",
    "# Configurar los nombres de las filas y columnas\n",
    "row_labels = [\"RL Correcta\", \"RL Incorrecta\"]\n",
    "col_labels = [\"k-NN Correcta\", \"k-NN Incorrecta\"]\n",
    "\n",
    "plt.figure(figsize=(6, 4))\n",
    "sns.heatmap(\n",
    "    contingency_table,\n",
    "    annot=True,\n",
    "    fmt='d',\n",
    "    cmap='Blues',\n",
    "    xticklabels=col_labels,\n",
    "    yticklabels=row_labels\n",
    ")\n",
    "#plt.title('Tabla de Contingencia - Test de McNemar')\n",
    "plt.savefig('tabla_contingencia_mcnemar_str.png', dpi=300, bbox_inches='tight')\n",
    "plt.show()"
   ]
  },
  {
   "cell_type": "markdown",
   "id": "66a278bb-e91a-4689-a5c2-080555a4b83c",
   "metadata": {},
   "source": [
    "### 10.2. Diagrama de mosaico para el test de McNemar<a name=\"dmmac\"></a>"
   ]
  },
  {
   "cell_type": "code",
   "execution_count": 15,
   "id": "a9ef87c2-4740-43fe-94e8-94691e94cacb",
   "metadata": {},
   "outputs": [
    {
     "data": {
      "text/plain": [
       "<Figure size 800x600 with 0 Axes>"
      ]
     },
     "metadata": {},
     "output_type": "display_data"
    },
    {
     "data": {
      "image/png": "[encoded data removed]",
      "text/plain": [
       "<Figure size 640x480 with 3 Axes>"
      ]
     },
     "metadata": {},
     "output_type": "display_data"
    }
   ],
   "source": [
    "from statsmodels.graphics.mosaicplot import mosaic\n",
    "import matplotlib.pyplot as plt\n",
    "import pandas as pd\n",
    "\n",
    "# Crear tabla de contingencia como DataFrame\n",
    "contingency_table = pd.DataFrame(\n",
    "    [[192, 25],\n",
    "     [46, 37]],\n",
    "    index=['RL Correcta', 'RL Incorrecta'],  # Etiquetas para las filas\n",
    "    columns=[f'kNN\\n Correcta', 'kNN Incorrecta']  # Etiquetas para las columnas\n",
    ")\n",
    "\n",
    "# Función personalizada para ajustar etiquetas\n",
    "def labelizer(key):\n",
    "    label = \" \".join(key)  \n",
    "    if len(label) > 20:    # Ajustamos la longitud\n",
    "        if label[2:11] == \" Correcta\":\n",
    "            label = \"RL\" + label[2:11] + \"\\n\" + label[11:]\n",
    "        else:\n",
    "            label = \"RL\" + label[2:13] + \"\\n\" + label[14:]\n",
    "    return label\n",
    "\n",
    "# Crear el gráfico de mosaico\n",
    "plt.figure(figsize=(8, 6))\n",
    "mosaic(contingency_table.stack(), labelizer=labelizer)  \n",
    "\n",
    "# Personalizar el gráfico\n",
    "#plt.title('Diagrama de Mosaico – Test de McNemar', fontsize=14)\n",
    "plt.savefig('tabla_mosaico_mcnemar_str.png', dpi=300, bbox_inches='tight') \n",
    "plt.show()\n"
   ]
  },
  {
   "cell_type": "markdown",
   "id": "6f8353dc-9335-440b-9e80-630637d899c0",
   "metadata": {},
   "source": [
    "### 10.3. Distribución de la precisión para el test t pareado 5x2 CV<a name=\"dp5x2\"></a>"
   ]
  },
  {
   "cell_type": "code",
   "execution_count": 16,
   "id": "82a7d979-f7b0-4d6b-9402-c5a04397041d",
   "metadata": {},
   "outputs": [
    {
     "data": {
      "image/png": "[encoded data removed]",
      "text/plain": [
       "<Figure size 800x600 with 1 Axes>"
      ]
     },
     "metadata": {},
     "output_type": "display_data"
    }
   ],
   "source": [
    "from sklearn.model_selection import cross_val_score\n",
    "\n",
    "scores_lr = cross_val_score(clf_lr, X, y, cv=5)\n",
    "scores_knn = cross_val_score(clf_knn, X, y, cv=5)\n",
    "\n",
    "scores_df = pd.DataFrame({\n",
    "    'Regresión Logística': scores_lr,\n",
    "    'k-NN': scores_knn\n",
    "})\n",
    "\n",
    "scores_df_melted = scores_df.melt(var_name='Clasificador', value_name='Precisión')\n",
    "\n",
    "plt.figure(figsize=(8, 6))\n",
    "sns.boxplot(x='Clasificador', y='Precisión', data=scores_df_melted)\n",
    "#plt.title('Distribución de Precisión - Validación Cruzada')\n",
    "plt.savefig('distribucion_precision_5x2_str.png', dpi=300, bbox_inches='tight') \n",
    "plt.show()\n"
   ]
  },
  {
   "cell_type": "markdown",
   "id": "3bfffcec-82a1-4cb0-ac09-835e19e5aaf9",
   "metadata": {},
   "source": [
    "### 10.4. Precisión a lo largo de las particiones para el test t pareado 5x2 CV<a name=\"pp5x2\"></a>"
   ]
  },
  {
   "cell_type": "code",
   "execution_count": 17,
   "id": "667ca06b-a738-4aa5-b2a6-20ab2dceee3a",
   "metadata": {},
   "outputs": [
    {
     "data": {
      "image/png": "[encoded data removed]",
      "text/plain": [
       "<Figure size 800x600 with 1 Axes>"
      ]
     },
     "metadata": {},
     "output_type": "display_data"
    }
   ],
   "source": [
    "plt.figure(figsize=(8, 6))\n",
    "plt.plot(range(1, 6), scores_lr, marker='o', label='Regresión Logística')\n",
    "plt.plot(range(1, 6), scores_knn, marker='s', label='k-NN')\n",
    "plt.xlabel('Partición')\n",
    "plt.ylabel('Precisión')\n",
    "plt.title('Precisión en cada partición de Validación Cruzada')\n",
    "\n",
    "# Configurar los valores del eje x para mostrar solo números enteros de los folds\n",
    "plt.xticks(ticks=range(1, 6), labels=range(1, 6))\n",
    "\n",
    "plt.legend()\n",
    "plt.savefig('precision_particiones_5x2_str.png', dpi=300, bbox_inches='tight')  # Guardar imagen\n",
    "plt.show()\n"
   ]
  },
  {
   "cell_type": "markdown",
   "id": "b261f766-a420-4b70-b9f9-c8457bc1b878",
   "metadata": {},
   "source": [
    "### 10.5. Diferencias de precisión entre los clasificadores para el test t pareado 5x2 CV<a name=\"dpa5x2\"></a>"
   ]
  },
  {
   "cell_type": "code",
   "execution_count": 18,
   "id": "49018e44-b95f-4572-b282-58774c02a01b",
   "metadata": {},
   "outputs": [
    {
     "data": {
      "image/png": "[encoded data removed]",
      "text/plain": [
       "<Figure size 800x600 with 1 Axes>"
      ]
     },
     "metadata": {},
     "output_type": "display_data"
    }
   ],
   "source": [
    "differences = scores_lr - scores_knn\n",
    "\n",
    "plt.figure(figsize=(8, 6))\n",
    "plt.bar(range(1, 6), differences)\n",
    "plt.xlabel('Partición')\n",
    "plt.ylabel('Diferencia de Precisión')\n",
    "plt.title('Diferencias de Precisión entre Clasificadores')\n",
    "plt.savefig('diferencias_precision_particiones_5x2_str.png', dpi=300, bbox_inches='tight') \n",
    "plt.show()\n"
   ]
  },
  {
   "cell_type": "code",
   "execution_count": null,
   "id": "d4a7dc73-28f2-45e3-82fd-3d5923a895e3",
   "metadata": {},
   "outputs": [],
   "source": []
  }
 ],
 "metadata": {
  "kernelspec": {
   "display_name": "Python 3 (ipykernel)",
   "language": "python",
   "name": "python3"
  },
  "language_info": {
   "codemirror_mode": {
    "name": "ipython",
    "version": 3
   },
   "file_extension": ".py",
   "mimetype": "text/x-python",
   "name": "python",
   "nbconvert_exporter": "python",
   "pygments_lexer": "ipython3",
   "version": "3.10.12"
  }
 },
 "nbformat": 4,
 "nbformat_minor": 5
}
